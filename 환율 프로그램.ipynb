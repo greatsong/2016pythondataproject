{
 "cells": [
  {
   "cell_type": "code",
   "execution_count": null,
   "metadata": {
    "collapsed": false
   },
   "outputs": [],
   "source": [
    "#ver 1.0\n",
    "exchange = float(input('환율을 입력해주세요 : '))\n",
    "cost = int(input('면세품의 금액을 입력해주세요 : '))\n",
    "result = exchange * cost\n",
    "print(int(result),'원 입니다.')"
   ]
  },
  {
   "cell_type": "code",
   "execution_count": null,
   "metadata": {
    "collapsed": false
   },
   "outputs": [],
   "source": [
    "#ver 2.0\n",
    "rate = {'usa':1136.6, 'jpn':10.36, 'eu' : 150}\n",
    "\n",
    "country = input('어느 나라 화폐인가요?(usa, jpn, eu) : ')\n",
    "exchange = rate[country]\n",
    "\n",
    "cost = int(input('면세품의 금액을 입력해주세요 : '))\n",
    "result = exchange * cost\n",
    "print(int(result),'원 입니다.')"
   ]
  },
  {
   "cell_type": "code",
   "execution_count": null,
   "metadata": {
    "collapsed": false
   },
   "outputs": [],
   "source": [
    "#for문 활용 프로그램\n",
    "rate = {'usa':1136.6, 'jpn':10.36, 'eu' : 150}\n",
    "\n",
    "money = int(input('How much won? : '))\n",
    "\n",
    "for key in rate :\n",
    "    print(key+' : ' + str(money / float(rate[key]))) "
   ]
  },
  {
   "cell_type": "code",
   "execution_count": null,
   "metadata": {
    "collapsed": false
   },
   "outputs": [],
   "source": [
    "#for, if문 활용 프로그램\n",
    "rate = {'usa':1136.6, 'jpn':10.36, 'eu' : 150}\n",
    "\n",
    "money = int(input('How much won? : '))\n",
    "\n",
    "for key in rate :\n",
    "    if(key == 'usa'):\n",
    "        unit = 'dollar'\n",
    "    elif(key == 'jpn'):\n",
    "        unit = 'en'\n",
    "    elif(key == 'eu'):\n",
    "        unit = 'euro'\n",
    "    result = money / rate[key]\n",
    "    print(key+' : ' + str(result) + unit)"
   ]
  },
  {
   "cell_type": "code",
   "execution_count": 4,
   "metadata": {
    "collapsed": false,
    "scrolled": true
   },
   "outputs": [
    {
     "name": "stdout",
     "output_type": "stream",
     "text": [
      "\n",
      "\t\t\t\t\n",
      "\t\t\t\t\t\n",
      "\t\t\t\t\t\n",
      "\t\t\t\t\t\n",
      "\t\t\t\t\t미국 USD\n",
      "\t\t\t\t\n",
      "\t\t\t\t\n",
      "1,137.20\n",
      "\n",
      "\t\t\t\t\n",
      "\t\t\t\t\t\n",
      "\t\t\t\t\t\n",
      "\t\t\t\t\t\n",
      "\t\t\t\t\t유럽연합 EUR\n",
      "\t\t\t\t\n",
      "\t\t\t\t\n",
      "1,257.57\n",
      "\n",
      "\t\t\t\t\n",
      "\t\t\t\t\t일본 JPY (100엔)\n",
      "\t\t\t\t\t\n",
      "\t\t\t\t\t\n",
      "\t\t\t\t\t\n",
      "\t\t\t\t\n",
      "\t\t\t\t\n",
      "1,077.25\n",
      "\n",
      "\t\t\t\t\n",
      "\t\t\t\t\t\n",
      "\t\t\t\t\t\n",
      "\t\t\t\t\t\n",
      "\t\t\t\t\t중국 CNY\n",
      "\t\t\t\t\n",
      "\t\t\t\t\n",
      "169.58\n",
      "\n",
      "\t\t\t\t\n",
      "\t\t\t\t\t\n",
      "\t\t\t\t\t\n",
      "\t\t\t\t\t\n",
      "\t\t\t\t\t홍콩 HKD\n",
      "\t\t\t\t\n",
      "\t\t\t\t\n",
      "146.66\n"
     ]
    },
    {
     "name": "stderr",
     "output_type": "stream",
     "text": [
      "C:\\Anaconda3\\lib\\site-packages\\bs4\\__init__.py:166: UserWarning: No parser was explicitly specified, so I'm using the best available HTML parser for this system (\"lxml\"). This usually isn't a problem, but if you run this code on another system, or in a different virtual environment, it may use a different parser and behave differently.\n",
      "\n",
      "To get rid of this warning, change this:\n",
      "\n",
      " BeautifulSoup([your markup])\n",
      "\n",
      "to this:\n",
      "\n",
      " BeautifulSoup([your markup], \"lxml\")\n",
      "\n",
      "  markup_type=markup_type))\n"
     ]
    }
   ],
   "source": [
    "#ver 3.0 초기 프로그램\n",
    "import urllib.request\n",
    "from bs4 import BeautifulSoup\n",
    "soup = BeautifulSoup(urllib.request.urlopen('http://info.finance.naver.com/marketindex/exchangeList.nhn').read())\n",
    "\n",
    "for i in range(5):\n",
    "    info = soup.find_all('a')[i+1].text\n",
    "    print(info)\n",
    "    currency = soup.find_all('td', attrs={\"class\":\"sale\"})[i].text\n",
    "    print(currency)"
   ]
  },
  {
   "cell_type": "code",
   "execution_count": 2,
   "metadata": {
    "collapsed": false
   },
   "outputs": [
    {
     "name": "stdout",
     "output_type": "stream",
     "text": [
      "{'홍콩 HKD': '146.64', '일본 JPY (100엔)': '1078.34', '미국 USD': '1137.00', '중국 CNY': '169.57', '유럽연합 EUR': '1257.98'}\n"
     ]
    }
   ],
   "source": [
    "#ver 3.0 문자열 부분 수정\n",
    "import urllib.request\n",
    "from bs4 import BeautifulSoup\n",
    "soup = BeautifulSoup(urllib.request.urlopen('http://info.finance.naver.com/marketindex/exchangeList.nhn').read(),\"lxml\")\n",
    "rate ={}\n",
    "for i in range(5):\n",
    "    info = soup.find_all('a')[i+1].text.strip()\n",
    "    currency = soup.find_all('td', attrs={\"class\":\"sale\"})[i].text.replace(',', '')\n",
    "    rate[info] = currency\n",
    "print(rate)"
   ]
  },
  {
   "cell_type": "code",
   "execution_count": 3,
   "metadata": {
    "collapsed": false
   },
   "outputs": [
    {
     "name": "stdout",
     "output_type": "stream",
     "text": [
      "{'HKD': '146.60', 'USD': '1136.70', 'CNY': '169.50', 'EUR': '1257.53', 'JPY': '1077.29'}\n",
      "어느 나라 화폐인가요?HKD\n",
      "상품의 금액을 입력해주세요 : 1500\n",
      "219900 원 입니다.\n"
     ]
    }
   ],
   "source": [
    "#ver 3.0 \n",
    "import urllib.request\n",
    "from bs4 import BeautifulSoup\n",
    "soup = BeautifulSoup(urllib.request.urlopen('http://info.finance.naver.com/marketindex/exchangeList.nhn').read(),\"lxml\")\n",
    "rate ={}\n",
    "for i in range(5):\n",
    "    info = soup.find_all('a')[i+1].text.strip().split()[1]\n",
    "    currency = soup.find_all('td', attrs={\"class\":\"sale\"})[i].text.replace(',', '')\n",
    "    rate[info] = currency\n",
    "print(rate)\n",
    "country = input('어느 나라 화폐인가요?')\n",
    "exchange = float(rate[country])\n",
    "\n",
    "cost = int(input('상품의 금액을 입력해주세요 : '))\n",
    "result = exchange * cost\n",
    "print(int(result),'원 입니다.')"
   ]
  },
  {
   "cell_type": "code",
   "execution_count": null,
   "metadata": {
    "collapsed": true
   },
   "outputs": [],
   "source": []
  }
 ],
 "metadata": {
  "kernelspec": {
   "display_name": "Python 3",
   "language": "python",
   "name": "python3"
  },
  "language_info": {
   "codemirror_mode": {
    "name": "ipython",
    "version": 3
   },
   "file_extension": ".py",
   "mimetype": "text/x-python",
   "name": "python",
   "nbconvert_exporter": "python",
   "pygments_lexer": "ipython3",
   "version": "3.5.1"
  }
 },
 "nbformat": 4,
 "nbformat_minor": 0
}
