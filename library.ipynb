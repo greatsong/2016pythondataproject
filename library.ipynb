{
 "cells": [
  {
   "cell_type": "code",
   "execution_count": 1,
   "metadata": {
    "collapsed": false,
    "slideshow": {
     "slide_type": "slide"
    }
   },
   "outputs": [],
   "source": [
    "import csv              \n",
    "f = open('./data/test.csv','r')\n",
    "f_age = csv.reader(f)"
   ]
  },
  {
   "cell_type": "code",
   "execution_count": 2,
   "metadata": {
    "collapsed": false,
    "slideshow": {
     "slide_type": "fragment"
    }
   },
   "outputs": [
    {
     "data": {
      "text/plain": [
       "<_io.TextIOWrapper name='./data/test.csv' mode='r' encoding='cp949'>"
      ]
     },
     "execution_count": 2,
     "metadata": {},
     "output_type": "execute_result"
    }
   ],
   "source": [
    "f"
   ]
  },
  {
   "cell_type": "code",
   "execution_count": 3,
   "metadata": {
    "collapsed": false,
    "slideshow": {
     "slide_type": "fragment"
    }
   },
   "outputs": [
    {
     "data": {
      "text/plain": [
       "<_csv.reader at 0x341dc30>"
      ]
     },
     "execution_count": 3,
     "metadata": {},
     "output_type": "execute_result"
    }
   ],
   "source": [
    "f_age"
   ]
  },
  {
   "cell_type": "code",
   "execution_count": 4,
   "metadata": {
    "collapsed": false,
    "slideshow": {
     "slide_type": "slide"
    }
   },
   "outputs": [
    {
     "name": "stdout",
     "output_type": "stream",
     "text": [
      "[['43', '51', '24'], ['29', '34', '54'], ['32', '30', '53'], ['34', '41', '29'], ['56', '32', '36'], ['45', '50', '48']]\n"
     ]
    }
   ],
   "source": [
    "import csv\n",
    "f = open('./data/test.csv','r')\n",
    "f_age = csv.reader(f)\n",
    "print(list(f_age))"
   ]
  },
  {
   "cell_type": "code",
   "execution_count": 5,
   "metadata": {
    "collapsed": false,
    "slideshow": {
     "slide_type": "slide"
    }
   },
   "outputs": [
    {
     "name": "stdout",
     "output_type": "stream",
     "text": [
      "['43', '51', '24']\n",
      "['29', '34', '54']\n",
      "['32', '30', '53']\n",
      "['34', '41', '29']\n",
      "['56', '32', '36']\n",
      "['45', '50', '48']\n"
     ]
    }
   ],
   "source": [
    "import csv\n",
    "f = open('./data/test.csv','r')\n",
    "f_age = csv.reader(f)\n",
    "for row in f_age :\n",
    "    print(row)"
   ]
  },
  {
   "cell_type": "code",
   "execution_count": 6,
   "metadata": {
    "collapsed": false,
    "scrolled": true,
    "slideshow": {
     "slide_type": "slide"
    }
   },
   "outputs": [
    {
     "data": {
      "text/plain": [
       "[<text fill=\"green\" font-size=\"7\" x=\"148\" y=\"172\" z=\"0\">Seoul</text>,\n",
       " <text fill=\"green\" font-size=\"7\" x=\"180\" y=\"325\" z=\"0\">Sejong</text>]"
      ]
     },
     "execution_count": 6,
     "metadata": {},
     "output_type": "execute_result"
    }
   ],
   "source": [
    "from bs4 import BeautifulSoup\n",
    "soup = BeautifulSoup(open('dust_result.html'),\"lxml\")\n",
    "result = soup.find_all('text')\n",
    "result"
   ]
  },
  {
   "cell_type": "code",
   "execution_count": 7,
   "metadata": {
    "collapsed": false,
    "slideshow": {
     "slide_type": "slide"
    }
   },
   "outputs": [
    {
     "name": "stdout",
     "output_type": "stream",
     "text": [
      "<img alt=\"페이스북\" src=\"/assets/images/use/common/facebook.gif\"/>\n",
      "<img alt=\"트위터\" src=\"/assets/images/use/common/twiteer.gif\"/>\n",
      "<img alt=\"블로그\" src=\"/assets/images/use/common/blog.gif\"/>\n",
      "<img alt=\"data.go.kr 공공데이터포털\" src=\"/assets/images/use/main/h1_logo.gif\"/>\n",
      "<img alt=\"상세검색\" src=\"/assets/images/use/main/btn_search_bg.gif\"/>\n",
      "<img alt=\"정부3.0\" src=\"/assets/images/use/main/g302s.png\"/>\n",
      "<img alt=\"자세히보기\" src=\"./assets/images/use/main/demand_asking.png\"/>\n",
      "<img alt=\"창닫기\" src=\"./assets/images/use/main/e_btn_close.gif\"/>\n",
      "<img alt=\"\" src=\"/assets/images/use/main/baro1_off.png\"/>\n",
      "<img alt=\"\" src=\"/assets/images/use/main/baro2_off.png\"/>\n",
      "<img alt=\"\" src=\"/assets/images/use/main/baro3_off.png\"/>\n",
      "<img alt=\"\" src=\"/assets/images/use/main/baro4_off.png\"/>\n",
      "<img alt=\"\" src=\"/assets/images/use/main/baro5_off.png\"/>\n",
      "<img alt=\"\" src=\"/assets/images/use/main/baro6_off.png\"/>\n",
      "<img alt=\"\" src=\"/assets/images/use/main/baro7_off.png\"/>\n",
      "<img alt=\"\" src=\"/assets/images/use/main/baro8_off.png\"/>\n",
      "<img alt=\"\" src=\"/assets/images/use/main/baro9_off.png\"/>\n",
      "<img alt=\"\" src=\"/assets/images/use/main/baro10_off.png\"/>\n",
      "<img alt=\"\" src=\"/assets/images/use/main/baro11_off.png\"/>\n",
      "<img alt=\"\" src=\"/assets/images/use/main/baro12_off.png\"/>\n",
      "<img alt=\"\" src=\"/assets/images/use/main/baro13_off.png\"/>\n",
      "<img alt=\"\" src=\"/assets/images/use/main/baro14_off.png\"/>\n",
      "<img alt=\"\" src=\"/assets/images/use/main/baro15_off.png\"/>\n",
      "<img alt=\"\" src=\"/assets/images/use/main/baro16_off.png\"/>\n",
      "<img alt=\"\" data-ng-src=\"/assets/images/use/main/open_data.gif\" src=\"/assets/images/use/main/open_data.gif\"/>\n",
      "<img alt=\"{{obj.prcuseCaseNm}}\" data-ng-src=\"/comm/file/download.do?atchFileId={{obj.atchFileId}}&amp;fileDetailSn={{obj.fileDetailSn}}\" src=\"#\"/>\n",
      "<img alt=\"\" src=\"/assets/images/use/main/btn_more.gif\"/>\n",
      "<img alt=\"공공데이터 시각화서비스 오픈\" src=\"/assets/images/use/main/popzone_78.gif\"/>\n",
      "<img alt=\"2016년 6월, 이달의 추천 데이터\" src=\"/assets/images/use/main/popzone_74.gif\"/>\n",
      "<img alt=\"2016년 06월 공공데이터 활용신청 TOP10\" src=\"/assets/images/use/main/popzone_76.gif\"/>\n",
      "<img alt=\"공공데이터 활용기업 커뮤니티 KOREA OPEN DATA 500\" src=\"/assets/images/use/main/popzone_45.gif\"/>\n",
      "<img alt=\"{{companyList.prcuseCaseNm}}\" data-ng-src=\"/comm/file/download.do?atchFileId={{companyList.atchFileId}}&amp;fileDetailSn={{companyList.fileDetailSn}}\" src=\"#\"/>\n",
      "<img alt=\"\" src=\"/assets/images/use/main/btn_more.gif\"/>\n",
      "<img alt=\"파일데이터\" src=\"/assets/images/use/main/m_tab1_on.gif\"/>\n",
      "<img alt=\"오픈API\" src=\"/assets/images/use/main/m_tab2_off.gif\"/>\n",
      "<img alt=\",new\" src=\"/assets/images/use/main/icon_new.png\"/>\n",
      "<img alt=\"공공데이터 품질관리\" src=\"/assets/images/use/main/quality_control.gif\"/>\n",
      "<img alt=\"빅데이터\" src=\"/assets/images/use/main/bigdata_bottom_banner.gif\"/>\n",
      "<img alt=\"kosis 국가통계포털\" src=\"./assets/images/use/main/banner8.gif\"/>\n",
      "<img alt=\"vworld 공간정보플랫폼\" src=\"./assets/images/use/main/banner9.gif\"/>\n",
      "<img alt=\"국가공간정보유통시스템\" src=\"./assets/images/use/main/banner10.gif\"/>\n",
      "<img alt=\"e나라지표\" src=\"./assets/images/use/main/banner11.gif\"/>\n",
      "<img alt=\"korea DB DATA.GO.KR\" src=\"./assets/images/use/main/banner1.gif\"/>\n",
      "<img alt=\"서울 열린데이터 광장\" src=\"./assets/images/use/main/banner5.gif\"/>\n",
      "<img alt=\"정부3.0\" src=\"./assets/images/use/main/banner6.gif\"/>\n",
      "<img alt=\"코드나무\" src=\"./assets/images/use/main/banner14.gif\"/>\n",
      "<img alt=\"SW 중심사회\" src=\"./assets/images/use/main/banner15.gif\"/>\n",
      "<img alt=\"공공서비스 오픈API\" src=\"./assets/images/use/main/banner16.jpg\"/>\n",
      "<img alt=\"맨위로 이동\" src=\"../assets/images/use/sub/top.gif\"/>\n",
      "<img alt=\"행정자치부\" src=\"/assets/images/use/common/f_logo2.gif\"/>\n",
      "<img alt=\"nia 한국정보화진흥원\" src=\"/assets/images/use/common/footer_logo.jpg\"/>\n",
      "<img alt=\"공공데이터 개방문의 1566-0025번호\" src=\"/assets/images/use/common/f_tel2.gif\"/>\n",
      "<img alt=\"제12회 웹어워드코리아 공공/의료부문 통합대상\" src=\"/assets/images/use/common/f_award.gif\"/>\n",
      "<img alt=\"행정자치부\" src=\"./assets/images/use/common/f_logo2.gif\"/>\n",
      "<img alt=\"nia 한국정보화진흥원\" src=\"./assets/images/use/common/footer_logo.jpg\"/>\n",
      "<img alt=\"공공데이터포털은 Internet Explorer 8 이상을 기반으로 하고 있습니다. IE8 이상으로 설치해주시거나, 호환성 보기가 활성화 되어있다면, 호환성보기를 비활성화하셔야 합니다.\" src=\"/assets/images/use/2015_new/ie7_title.gif\"/>\n",
      "<img alt=\"호환성 보기 비활성화 방법\" src=\"/assets/images/use/2015_new/ie7_dt1.gif\"/>\n",
      "<img alt=\"도구창에서 ①호환성 보기 설정(B) 를 클릭\" src=\"/assets/images/use/2015_new/ie7_dd1.gif\"/>\n",
      "<img alt=\"호환성 보기에 추가한 웹사이트(W) 창에 있는 사이트네임(data.go.kr)을 ②제거 후 ③호환성 보기에서 인트라넷 사이트 표시(I) 체크박스를 선택\" src=\"/assets/images/use/2015_new/ie7_dd2.gif\"/>\n",
      "<img alt=\"추가조치- 위 방법에도 접속이 되지 않는다면 다음의 과정을 이어서 수행해 주시기 바랍니다.\" src=\"/assets/images/use/2015_new/ie7_dt2.gif\"/>\n",
      "<img alt=\"1.①인터넷 익스플로러 브라우저 실행 / 2.메뉴에서 ②도구(T) 선택 / 3.③인터넷 옵션(O) 선택\" src=\"/assets/images/use/2015_new/ie7_dd3.gif\"/>\n",
      "<img alt=\"4.일반탭 선택 / 5.검색 기록의 설정(S) 선택 / 6.저장된 페이지의 새 버전 확인 선택\" src=\"/assets/images/use/2015_new/ie7_dd4.gif\"/>\n",
      "<img alt=\"7. ④고급탭 선택 / 8.설정에서 ⑤호환성 보기로 페이지 레이아웃 오류 자동으로 복구 체크 해제 / 9.⑥확인 선택\" src=\"/assets/images/use/2015_new/ie7_dd5.gif\"/>\n",
      "<img alt=\"10.공공데이터포털 재접속\" src=\"/assets/images/use/2015_new/ie7_dd6.gif\"/>\n"
     ]
    },
    {
     "name": "stderr",
     "output_type": "stream",
     "text": [
      "C:\\Anaconda3\\lib\\site-packages\\bs4\\__init__.py:166: UserWarning: No parser was explicitly specified, so I'm using the best available HTML parser for this system (\"lxml\"). This usually isn't a problem, but if you run this code on another system, or in a different virtual environment, it may use a different parser and behave differently.\n",
      "\n",
      "To get rid of this warning, change this:\n",
      "\n",
      " BeautifulSoup([your markup])\n",
      "\n",
      "to this:\n",
      "\n",
      " BeautifulSoup([your markup], \"lxml\")\n",
      "\n",
      "  markup_type=markup_type))\n"
     ]
    }
   ],
   "source": [
    "import urllib.request\n",
    "from bs4 import BeautifulSoup\n",
    "page = urllib.request.urlopen(\"http://www.data.go.kr\")\n",
    "soup = BeautifulSoup(page)\n",
    "imgs = soup.find_all('img')\n",
    "for img in imgs :\n",
    "    print(img)"
   ]
  }
 ],
 "metadata": {
  "celltoolbar": "Slideshow",
  "kernelspec": {
   "display_name": "Python 3",
   "language": "python",
   "name": "python3"
  },
  "language_info": {
   "codemirror_mode": {
    "name": "ipython",
    "version": 3
   },
   "file_extension": ".py",
   "mimetype": "text/x-python",
   "name": "python",
   "nbconvert_exporter": "python",
   "pygments_lexer": "ipython3",
   "version": "3.5.1"
  }
 },
 "nbformat": 4,
 "nbformat_minor": 0
}
