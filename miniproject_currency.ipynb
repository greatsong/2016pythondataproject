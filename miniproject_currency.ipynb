{
 "cells": [
  {
   "cell_type": "code",
   "execution_count": 1,
   "metadata": {
    "collapsed": false,
    "slideshow": {
     "slide_type": "slide"
    }
   },
   "outputs": [
    {
     "name": "stdout",
     "output_type": "stream",
     "text": [
      "환율을 입력해주세요 : 1136.6\n",
      "면세품의 금액을 입력해주세요 : 120\n",
      "136392 원 입니다.\n"
     ]
    }
   ],
   "source": [
    "#ver 1.0\n",
    "exchange = float(input('환율을 입력해주세요 : '))\n",
    "cost = int(input('면세품의 금액을 입력해주세요 : '))\n",
    "result = exchange * cost\n",
    "print(int(result),'원 입니다.')"
   ]
  },
  {
   "cell_type": "code",
   "execution_count": 2,
   "metadata": {
    "collapsed": false,
    "slideshow": {
     "slide_type": "slide"
    }
   },
   "outputs": [
    {
     "name": "stdout",
     "output_type": "stream",
     "text": [
      "어느 나라 화폐인가요?(usa, jpn, eu) : usa\n",
      "면세품의 금액을 입력해주세요 : 125\n",
      "142075 원 입니다.\n"
     ]
    }
   ],
   "source": [
    "#ver 2.0\n",
    "rate = {'usa':1136.6, 'jpn':10.36, 'eu' : 150}\n",
    "\n",
    "country = input('어느 나라 화폐인가요?(usa, jpn, eu) : ')\n",
    "exchange = rate[country]\n",
    "\n",
    "cost = int(input('면세품의 금액을 입력해주세요 : '))\n",
    "result = exchange * cost\n",
    "print(int(result),'원 입니다.')"
   ]
  },
  {
   "cell_type": "code",
   "execution_count": 3,
   "metadata": {
    "collapsed": false,
    "slideshow": {
     "slide_type": "slide"
    }
   },
   "outputs": [
    {
     "name": "stdout",
     "output_type": "stream",
     "text": [
      "우리나라 돈으로 얼마인가요? : 1000000\n",
      "eu : 6666.666666666667\n",
      "usa : 879.8169980644027\n",
      "jpn : 96525.09652509652\n"
     ]
    }
   ],
   "source": [
    "#for문 활용 프로그램\n",
    "rate = {'usa':1136.6, 'jpn':10.36, 'eu' : 150}\n",
    "\n",
    "money = int(input('우리나라 돈으로 얼마인가요? : '))\n",
    "\n",
    "for key in rate :\n",
    "    print(key+' : ' + str(money / float(rate[key]))) "
   ]
  },
  {
   "cell_type": "code",
   "execution_count": 4,
   "metadata": {
    "collapsed": false,
    "slideshow": {
     "slide_type": "slide"
    }
   },
   "outputs": [
    {
     "name": "stdout",
     "output_type": "stream",
     "text": [
      "우리나라 돈으로 얼마인가요? : 1000000\n",
      "eu : 6666.666666666667euro\n",
      "usa : 879.8169980644027dollar\n",
      "jpn : 96525.09652509652en\n"
     ]
    }
   ],
   "source": [
    "#for, if문 활용 프로그램\n",
    "rate = {'usa':1136.6, 'jpn':10.36, 'eu' : 150}\n",
    "\n",
    "money = int(input('우리나라 돈으로 얼마인가요? : '))\n",
    "\n",
    "for key in rate :\n",
    "    if(key == 'usa'):\n",
    "        unit = 'dollar'\n",
    "    elif(key == 'jpn'):\n",
    "        unit = 'en'\n",
    "    elif(key == 'eu'):\n",
    "        unit = 'euro'\n",
    "    result = money / rate[key]\n",
    "    print(key+' : ' + str(result) + unit)"
   ]
  },
  {
   "cell_type": "code",
   "execution_count": 5,
   "metadata": {
    "collapsed": false,
    "scrolled": true,
    "slideshow": {
     "slide_type": "slide"
    }
   },
   "outputs": [
    {
     "name": "stdout",
     "output_type": "stream",
     "text": [
      "\n",
      "\t\t\t\t\n",
      "\t\t\t\t\t\n",
      "\t\t\t\t\t\n",
      "\t\t\t\t\t\n",
      "\t\t\t\t\t미국 USD\n",
      "\t\t\t\t\n",
      "\t\t\t\t\n",
      "1,136.20\n",
      "\n",
      "\t\t\t\t\n",
      "\t\t\t\t\t\n",
      "\t\t\t\t\t\n",
      "\t\t\t\t\t\n",
      "\t\t\t\t\t유럽연합 EUR\n",
      "\t\t\t\t\n",
      "\t\t\t\t\n",
      "1,257.89\n",
      "\n",
      "\t\t\t\t\n",
      "\t\t\t\t\t일본 JPY (100엔)\n",
      "\t\t\t\t\t\n",
      "\t\t\t\t\t\n",
      "\t\t\t\t\t\n",
      "\t\t\t\t\n",
      "\t\t\t\t\n",
      "1,071.63\n",
      "\n",
      "\t\t\t\t\n",
      "\t\t\t\t\t\n",
      "\t\t\t\t\t\n",
      "\t\t\t\t\t\n",
      "\t\t\t\t\t중국 CNY\n",
      "\t\t\t\t\n",
      "\t\t\t\t\n",
      "169.35\n",
      "\n",
      "\t\t\t\t\n",
      "\t\t\t\t\t\n",
      "\t\t\t\t\t\n",
      "\t\t\t\t\t\n",
      "\t\t\t\t\t홍콩 HKD\n",
      "\t\t\t\t\n",
      "\t\t\t\t\n",
      "146.51\n"
     ]
    },
    {
     "name": "stderr",
     "output_type": "stream",
     "text": [
      "C:\\Anaconda3\\lib\\site-packages\\bs4\\__init__.py:166: UserWarning: No parser was explicitly specified, so I'm using the best available HTML parser for this system (\"lxml\"). This usually isn't a problem, but if you run this code on another system, or in a different virtual environment, it may use a different parser and behave differently.\n",
      "\n",
      "To get rid of this warning, change this:\n",
      "\n",
      " BeautifulSoup([your markup])\n",
      "\n",
      "to this:\n",
      "\n",
      " BeautifulSoup([your markup], \"lxml\")\n",
      "\n",
      "  markup_type=markup_type))\n"
     ]
    }
   ],
   "source": [
    "#ver 3.0 초기 프로그램\n",
    "import urllib.request\n",
    "from bs4 import BeautifulSoup\n",
    "soup = BeautifulSoup(urllib.request.urlopen('http://info.finance.naver.com/marketindex/exchangeList.nhn').read())\n",
    "\n",
    "for i in range(5):\n",
    "    info = soup.find_all('a')[i+1].text\n",
    "    print(info)\n",
    "    currency = soup.find_all('td', attrs={\"class\":\"sale\"})[i].text\n",
    "    print(currency)"
   ]
  },
  {
   "cell_type": "code",
   "execution_count": 6,
   "metadata": {
    "collapsed": false,
    "slideshow": {
     "slide_type": "slide"
    }
   },
   "outputs": [
    {
     "name": "stdout",
     "output_type": "stream",
     "text": [
      "{'중국 CNY': '169.35', '일본 JPY (100엔)': '1071.63', '유럽연합 EUR': '1257.89', '홍콩 HKD': '146.51', '미국 USD': '1136.20'}\n"
     ]
    }
   ],
   "source": [
    "#ver 3.0 문자열 부분 수정\n",
    "import urllib.request\n",
    "from bs4 import BeautifulSoup\n",
    "soup = BeautifulSoup(urllib.request.urlopen('http://info.finance.naver.com/marketindex/exchangeList.nhn').read(),\"lxml\")\n",
    "rate ={}\n",
    "for i in range(5):\n",
    "    info = soup.find_all('a')[i+1].text.strip()\n",
    "    currency = soup.find_all('td', attrs={\"class\":\"sale\"})[i].text.replace(',', '')\n",
    "    rate[info] = currency\n",
    "print(rate)"
   ]
  },
  {
   "cell_type": "code",
   "execution_count": 7,
   "metadata": {
    "collapsed": false,
    "slideshow": {
     "slide_type": "slide"
    }
   },
   "outputs": [
    {
     "name": "stdout",
     "output_type": "stream",
     "text": [
      "{'JPY': '1071.63', 'CNY': '169.35', 'EUR': '1257.89', 'USD': '1136.20', 'HKD': '146.51'}\n",
      "어느 나라 화폐인가요?JPY\n",
      "상품의 금액을 입력해주세요 : 1000\n",
      "1071630 원 입니다.\n"
     ]
    }
   ],
   "source": [
    "#ver 3.0 \n",
    "import urllib.request\n",
    "from bs4 import BeautifulSoup\n",
    "soup = BeautifulSoup(urllib.request.urlopen('http://info.finance.naver.com/marketindex/exchangeList.nhn').read(),\"lxml\")\n",
    "rate ={}\n",
    "for i in range(5):\n",
    "    info = soup.find_all('a')[i+1].text.strip().split()[1]\n",
    "    currency = soup.find_all('td', attrs={\"class\":\"sale\"})[i].text.replace(',', '')\n",
    "    rate[info] = currency\n",
    "print(rate)\n",
    "country = input('어느 나라 화폐인가요?')\n",
    "exchange = float(rate[country])\n",
    "\n",
    "cost = int(input('상품의 금액을 입력해주세요 : '))\n",
    "result = exchange * cost\n",
    "print(int(result),'원 입니다.')"
   ]
  }
 ],
 "metadata": {
  "celltoolbar": "Slideshow",
  "kernelspec": {
   "display_name": "Python 3",
   "language": "python",
   "name": "python3"
  },
  "language_info": {
   "codemirror_mode": {
    "name": "ipython",
    "version": 3
   },
   "file_extension": ".py",
   "mimetype": "text/x-python",
   "name": "python",
   "nbconvert_exporter": "python",
   "pygments_lexer": "ipython3",
   "version": "3.5.1"
  }
 },
 "nbformat": 4,
 "nbformat_minor": 0
}
